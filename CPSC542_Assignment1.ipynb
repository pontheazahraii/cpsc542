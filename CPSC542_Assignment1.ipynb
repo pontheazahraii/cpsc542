{
  "cells": [
    {
      "cell_type": "markdown",
      "metadata": {
        "id": "OmOvbSb55BVg"
      },
      "source": [
        "# CPSC 542 Assignment 1\n",
        "## Objective\n",
        "1. Prove the classification task requires a deep learning solution\n",
        "2. Develop a pipeline that is capable of preprocessing, augmentation, training, prediction, and validation, and uses a CNN-based DNN for classification"
      ]
    },
    {
      "cell_type": "markdown",
      "metadata": {
        "id": "1ncf182Z8sGo"
      },
      "source": [
        "## Imports"
      ]
    },
    {
      "cell_type": "code",
      "execution_count": null,
      "metadata": {
        "id": "NnhsFfGE485w"
      },
      "outputs": [],
      "source": [
        "import warnings\n",
        "warnings.filterwarnings('ignore')\n",
        "\n",
        "import numpy as np\n",
        "import pandas as pd\n",
        "import tensorflow as tf\n",
        "import tensorflow.keras as kb\n",
        "import matplotlib.pyplot as plt"
      ]
    },
    {
      "cell_type": "markdown",
      "metadata": {
        "id": "2OkUlpZ7q-Ti"
      },
      "source": [
        "## Random Forest"
      ]
    },
    {
      "cell_type": "code",
      "execution_count": null,
      "metadata": {
        "id": "iFyPldFeuQnZ"
      },
      "outputs": [],
      "source": [
        "from keras.datasets import cifar10\n",
        "\n",
        "# Loading Data\n",
        "(X_train, y_train), (X_test, y_test) = cifar10.load_data()"
      ]
    },
    {
      "cell_type": "code",
      "execution_count": null,
      "metadata": {
        "colab": {
          "base_uri": "https://localhost:8080/"
        },
        "id": "8fAthCT7uYf9",
        "outputId": "0da31d24-55dc-4731-958a-dc2315541564"
      },
      "outputs": [],
      "source": [
        "# Examining Data Shape\n",
        "print('TRAIN DATA SHAPE')\n",
        "print('X_train: ' , X_train.shape)\n",
        "print('y_train: ' , y_train.shape)\n",
        "\n",
        "print('TEST DATA SHAPE')\n",
        "print('X_test: ' , X_test.shape)\n",
        "print('y_test: ' , y_test.shape)"
      ]
    },
    {
      "cell_type": "code",
      "execution_count": null,
      "metadata": {
        "id": "_5smP0wwtt2L"
      },
      "outputs": [],
      "source": [
        "# Reshape Data\n",
        "reshape = X_train.shape[1] * X_train.shape[2] * X_train.shape[3]\n",
        "\n",
        "X_train = X_train.reshape((X_train.shape[0], reshape))\n",
        "X_test = X_test.reshape((X_test.shape[0], reshape))"
      ]
    },
    {
      "cell_type": "code",
      "execution_count": null,
      "metadata": {
        "id": "lEiHFloeviVf"
      },
      "outputs": [],
      "source": [
        "# Normalize Data\n",
        "X_train = X_train.astype('float32')\n",
        "X_test = X_test.astype('float32')\n",
        "\n",
        "X_train /= 255\n",
        "X_test /= 255"
      ]
    },
    {
      "cell_type": "code",
      "execution_count": null,
      "metadata": {
        "colab": {
          "base_uri": "https://localhost:8080/"
        },
        "id": "9Pq2PzmFwh-Q",
        "outputId": "1f113b62-509a-47cd-a8c4-73487b8866c8"
      },
      "outputs": [],
      "source": [
        "# Check input shape\n",
        "print('X_train: ', X_train.shape)\n",
        "print('X_test: ', X_test.shape)"
      ]
    },
    {
      "cell_type": "code",
      "execution_count": null,
      "metadata": {
        "colab": {
          "base_uri": "https://localhost:8080/",
          "height": 75
        },
        "id": "4Ad9BoCtwkMq",
        "outputId": "3bad2839-0874-41c5-d80c-3153e04a1bc8"
      },
      "outputs": [],
      "source": [
        "from sklearn.ensemble import RandomForestClassifier\n",
        "\n",
        "# Create model\n",
        "rf = RandomForestClassifier(n_estimators=10)\n",
        "rf.fit(X_train, y_train)"
      ]
    },
    {
      "cell_type": "code",
      "execution_count": null,
      "metadata": {
        "id": "DrQYQ9TtsdE5"
      },
      "outputs": [],
      "source": [
        "# Predictions\n",
        "y_pred_train = rf.predict(X_train)\n",
        "y_pred_test = rf. predict(X_test)"
      ]
    },
    {
      "cell_type": "code",
      "execution_count": null,
      "metadata": {
        "colab": {
          "base_uri": "https://localhost:8080/",
          "height": 1000
        },
        "id": "OiHpUb_Mq91e",
        "outputId": "a90d44d9-85c5-4ad9-c705-385c67231f5f"
      },
      "outputs": [],
      "source": [
        "from sklearn.metrics import classification_report, confusion_matrix, ConfusionMatrixDisplay\n",
        "\n",
        "# Metrics\n",
        "print('Training Data')\n",
        "print(classification_report(y_train, y_pred_train))\n",
        "cm_train = confusion_matrix(y_train, y_pred_train)\n",
        "disp_train = ConfusionMatrixDisplay(confusion_matrix=cm_train)\n",
        "disp_train.plot()\n",
        "plt.show()\n",
        "\n",
        "print('Testing Data')\n",
        "print(classification_report(y_test, y_pred_test))\n",
        "cm_test = confusion_matrix(y_test, y_pred_test)\n",
        "disp_test = ConfusionMatrixDisplay(confusion_matrix=cm_test)\n",
        "disp_test.plot()\n",
        "plt.show()"
      ]
    },
    {
      "cell_type": "markdown",
      "metadata": {
        "id": "aMwPqA1StJFD"
      },
      "source": [
        "## CNN Model"
      ]
    },
    {
      "cell_type": "markdown",
      "metadata": {
        "id": "jMCR-m5G59He"
      },
      "source": [
        "### Preprocessing\n"
      ]
    },
    {
      "cell_type": "code",
      "execution_count": null,
      "metadata": {
        "id": "soZsZIlJ9vXb"
      },
      "outputs": [],
      "source": [
        "from keras.datasets import cifar10\n",
        "\n",
        "# Loading Data\n",
        "(X_train, y_train), (X_test, y_test) = cifar10.load_data()"
      ]
    },
    {
      "cell_type": "code",
      "execution_count": null,
      "metadata": {
        "colab": {
          "base_uri": "https://localhost:8080/"
        },
        "id": "-rSew6UL-EiB",
        "outputId": "bd87b81a-7649-45bd-f9e4-ae44344e59d8"
      },
      "outputs": [],
      "source": [
        "# Examining Data Shape\n",
        "print('TRAIN DATA SHAPE')\n",
        "print('X_train: ' , X_train.shape)\n",
        "print('y_train: ' , y_train.shape)\n",
        "\n",
        "print('TEST DATA SHAPE')\n",
        "print('X_test: ' , X_test.shape)\n",
        "print('y_test: ' , y_test.shape)"
      ]
    },
    {
      "cell_type": "code",
      "execution_count": null,
      "metadata": {
        "colab": {
          "base_uri": "https://localhost:8080/",
          "height": 666
        },
        "id": "JwJFfng4-yhR",
        "outputId": "c25deb84-f138-4143-ae2b-1d496185d98e"
      },
      "outputs": [],
      "source": [
        "# Plotting Data\n",
        "classes = ['airplane' ,'automobile', 'bird', 'cat', 'deer',\n",
        "           'dog', 'frog', 'horse', 'ship', 'truck']\n",
        "\n",
        "print('Y VALUES\\n')\n",
        "for i in range(9):\n",
        "  img = X_train[i]\n",
        "  plt.subplot(330+1+i)\n",
        "  plt.imshow(img)\n",
        "  print(classes[y_train[i][0]])\n",
        "\n",
        "print('\\nX VALUES')\n",
        "plt.show()\n"
      ]
    },
    {
      "cell_type": "code",
      "execution_count": null,
      "metadata": {
        "id": "nLIb4-FoCU0K"
      },
      "outputs": [],
      "source": [
        "# Preparing Data\n",
        "\n",
        "# Scale images to the [0,1] range\n",
        "X_train = X_train.astype('float32') / 255\n",
        "X_test = X_test.astype('float32') / 255"
      ]
    },
    {
      "cell_type": "code",
      "execution_count": null,
      "metadata": {
        "id": "_pHgu0JXFvIe"
      },
      "outputs": [],
      "source": [
        "# Create Validation Set\n",
        "(X_train, X_val) = X_train[5000:], X_train[:5000]\n",
        "(y_train, y_val) = y_train[5000:], y_train[:5000]"
      ]
    },
    {
      "cell_type": "code",
      "execution_count": null,
      "metadata": {
        "colab": {
          "base_uri": "https://localhost:8080/"
        },
        "id": "4eAcZyXGGXhS",
        "outputId": "2401c23a-bbac-4627-eb5d-ea6564be07ac"
      },
      "outputs": [],
      "source": [
        "# Check input shape\n",
        "print('X_train shape: ' , X_train.shape)\n",
        "print('X_test shape: ' , X_test.shape)\n",
        "print('X_val shape: ', X_val.shape)"
      ]
    },
    {
      "cell_type": "code",
      "execution_count": null,
      "metadata": {
        "id": "XLFgQdzAHeXf"
      },
      "outputs": [],
      "source": [
        "# One-hot encode labels\n",
        "y_train = kb.utils.to_categorical(y_train, 10)\n",
        "y_test = kb.utils.to_categorical(y_test, 10)\n",
        "y_val = kb.utils.to_categorical(y_val, 10)"
      ]
    },
    {
      "cell_type": "markdown",
      "metadata": {
        "id": "FRs2JISZDn2u"
      },
      "source": [
        "### Augmentation"
      ]
    },
    {
      "cell_type": "code",
      "execution_count": null,
      "metadata": {
        "id": "fPBybyE4Ge0V"
      },
      "outputs": [],
      "source": [
        "from keras.preprocessing.image import ImageDataGenerator\n",
        "\n",
        "# Image Generator\n",
        "datagen = ImageDataGenerator(\n",
        "    width_shift_range=0.2,\n",
        "    height_shift_range=0.2,\n",
        "    horizontal_flip=True,\n",
        "    vertical_flip=True\n",
        ")\n",
        "\n",
        "datagen.fit(X_train)"
      ]
    },
    {
      "cell_type": "code",
      "execution_count": null,
      "metadata": {
        "colab": {
          "base_uri": "https://localhost:8080/",
          "height": 179
        },
        "id": "8u211PCGsNgR",
        "outputId": "006969dc-0b69-48f6-c500-b89373602b00"
      },
      "outputs": [],
      "source": [
        "# Visualize Augmentation\n",
        "X_train_sub = X_train[:10]\n",
        "\n",
        "# Original Training Data\n",
        "plt.figure(figsize=(20,2))\n",
        "for i in range(10):\n",
        "  plt.subplot(1, 10, i+1)\n",
        "  plt.imshow(X_train_sub[i])\n",
        "plt.suptitle('Original Training Images', fontsize=15)\n",
        "plt.show()\n",
        "\n",
        "# Augmented Data\n",
        "plt.figure(figsize=(20,2))\n",
        "for X_batch in datagen.flow(X_train_sub, batch_size=12):\n",
        "  for i in range(10):\n",
        "    plt.subplot(1, 10, i+1)\n",
        "    plt.imshow(X_batch[i])\n",
        "  plt.suptitle('Augmented Images', fontsize=15)\n",
        "  plt.show()\n",
        "  break"
      ]
    },
    {
      "cell_type": "markdown",
      "metadata": {
        "id": "SPVQTWeIwjY1"
      },
      "source": [
        "### Model"
      ]
    },
    {
      "cell_type": "code",
      "execution_count": null,
      "metadata": {
        "colab": {
          "base_uri": "https://localhost:8080/"
        },
        "id": "iATDPIbjwlka",
        "outputId": "16e662d9-0670-47fd-8463-ed9c75c2639a"
      },
      "outputs": [],
      "source": [
        "from keras.models import Sequential\n",
        "from keras.layers import Conv2D, MaxPooling2D, Dense, Dropout, Flatten, BatchNormalization\n",
        "\n",
        "model = kb.Sequential()\n",
        "model.add(Conv2D(filters=32, kernel_size=3, padding='same', activation='relu',\n",
        "                 input_shape=(32, 32, 3)))\n",
        "model.add(Conv2D(filters=64, kernel_size=3, padding='same', activation='relu'))\n",
        "model.add(BatchNormalization())\n",
        "model.add(Dropout(0.4))\n",
        "model.add(MaxPooling2D())\n",
        "model.add(Conv2D(filters=32, kernel_size=3, padding='same', activation='relu'))\n",
        "model.add(Conv2D(filters=16, kernel_size=3, padding='same', activation='relu'))\n",
        "model.add(Conv2D(filters=8, kernel_size=3, padding='same', activation='relu'))\n",
        "model.add(BatchNormalization())\n",
        "model.add(Dropout(0.3))\n",
        "model.add(MaxPooling2D())\n",
        "model.add(Conv2D(filters=4, kernel_size=3, padding='same', activation='relu'))\n",
        "model.add(Conv2D(filters=2, kernel_size=3, padding='same', activation='relu'))\n",
        "model.add(Conv2D(filters=1, kernel_size=3, padding='same', activation='relu'))\n",
        "model.add(Dropout(0.2))\n",
        "model.add(Flatten())\n",
        "model.add(Dense(64, activation='relu'))\n",
        "model.add(Dense(32, activation='relu'))\n",
        "model.add(Dense(16, activation='relu'))\n",
        "model.add(Dropout(0.1))\n",
        "model.add(Dense(10, activation='softmax'))\n",
        "\n",
        "print(model.summary())"
      ]
    },
    {
      "cell_type": "code",
      "execution_count": null,
      "metadata": {
        "id": "HytwivvM4ZOw"
      },
      "outputs": [],
      "source": [
        "from keras.optimizers import RMSprop\n",
        "\n",
        "# compile model\n",
        "model.compile(loss='categorical_crossentropy', optimizer='rmsprop',\n",
        "              metrics=['accuracy'])"
      ]
    },
    {
      "cell_type": "markdown",
      "metadata": {
        "id": "bYJPhrRsekpq"
      },
      "source": [
        "### Training and Validation"
      ]
    },
    {
      "cell_type": "code",
      "execution_count": null,
      "metadata": {
        "id": "_4cebDdu5bEZ"
      },
      "outputs": [],
      "source": [
        "# train model\n",
        "history = model.fit(X_train, y_train, batch_size=50, epochs=100,\n",
        "                    validation_data=(X_val, y_val))"
      ]
    },
    {
      "cell_type": "code",
      "execution_count": null,
      "metadata": {
        "id": "UAJ2uHdWd6Cw"
      },
      "outputs": [],
      "source": [
        "# look at model history\n",
        "print(history.history)\n",
        "\n",
        "# Plot Loss\n",
        "f, ax = plt.subplots(1, 2, figsize=(12,3))\n",
        "ax[0].plot(history.history['loss'], label='Loss', color='r')\n",
        "ax[0].plot(history.history['val_loss'], label='Validation', color='b')\n",
        "ax[0].set_title('Loss')\n",
        "ax[0].set_xlabel('Epoch')\n",
        "ax[0].set_ylabel('Loss')\n",
        "ax[0].legend()\n",
        "\n",
        "# Accuracy\n",
        "ax[1].plot(history.history['accuracy'], label='Accuracy', color='r')\n",
        "ax[1].plot(history.history['val_accuracy'], label='Validation', color='b')\n",
        "ax[1].set_title('Accuracy')\n",
        "ax[1].set_xlabel('Epoch')\n",
        "ax[1].set_ylabel('Accuracy')\n",
        "ax[1].legend()\n",
        "\n",
        "plt.tight_layout()\n",
        "plt.show()"
      ]
    },
    {
      "cell_type": "markdown",
      "metadata": {
        "id": "FHI4EVZcem0c"
      },
      "source": [
        "### Prediction"
      ]
    },
    {
      "cell_type": "code",
      "execution_count": null,
      "metadata": {
        "colab": {
          "base_uri": "https://localhost:8080/",
          "height": 418
        },
        "id": "IsKKs4GxeRfQ",
        "outputId": "dfbbf1d9-7740-4cb8-f8f3-218de2aab009"
      },
      "outputs": [],
      "source": [
        "# evaluate data\n",
        "results = model.evaluate(X_test, y_test, batch_size=100)\n",
        "print('Test Loss, Test Accuracy: ' , results)"
      ]
    },
    {
      "cell_type": "code",
      "execution_count": null,
      "metadata": {
        "id": "da0984gbe3T_"
      },
      "outputs": [],
      "source": [
        "# Generate predictions\n",
        "y_pred_train = model.predict(X_train)\n",
        "y_pred_test = model.predict(X_test)"
      ]
    },
    {
      "cell_type": "code",
      "execution_count": null,
      "metadata": {
        "id": "mMYWXN3khuNy"
      },
      "outputs": [],
      "source": [
        "# Metrics\n",
        "fig = plt.figure(figsize=(20, 8))\n",
        "for i, idx in enumerate(np.random.choice(X_train.shape[0], size=32, replace=False)):\n",
        "    ax = fig.add_subplot(4, 8, i + 1, xticks=[], yticks=[])\n",
        "    ax.imshow(np.squeeze(X_train[idx]))\n",
        "    pred_idx = np.argmax(y_pred_train[idx])\n",
        "    true_idx = np.argmax(y_train[idx])\n",
        "    ax.set_title(\"{} ({})\".format(classes[pred_idx], classes[true_idx]),\n",
        "                 color=(\"green\" if pred_idx == true_idx else \"red\"))\n",
        "plt.show()\n",
        "plt.savefig('cnn_train.png')\n",
        "\n",
        "fig = plt.figure(figsize=(20, 8))\n",
        "for i, idx in enumerate(np.random.choice(X_test.shape[0], size=32, replace=False)):\n",
        "    ax = fig.add_subplot(4, 8, i + 1, xticks=[], yticks=[])\n",
        "    ax.imshow(np.squeeze(X_test[idx]))\n",
        "    pred_idx = np.argmax(y_pred_test[idx])\n",
        "    true_idx = np.argmax(y_test[idx])\n",
        "    ax.set_title(\"{} ({})\".format(classes[pred_idx], classes[true_idx]),\n",
        "                 color=(\"green\" if pred_idx == true_idx else \"red\"))\n",
        "plt.show()\n",
        "plt.savefig('cnn_test.png')"
      ]
    }
  ],
  "metadata": {
    "colab": {
      "provenance": []
    },
    "kernelspec": {
      "display_name": "Python 3",
      "name": "python3"
    },
    "language_info": {
      "name": "python"
    }
  },
  "nbformat": 4,
  "nbformat_minor": 0
}
